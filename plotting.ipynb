{
 "cells": [
  {
   "cell_type": "code",
   "execution_count": 3,
   "id": "d30b7a54",
   "metadata": {},
   "outputs": [],
   "source": [
    "import matplotlib.pyplot as plt\n",
    "import numpy as np\n",
    "import pandas as pd"
   ]
  },
  {
   "cell_type": "code",
   "execution_count": 4,
   "id": "3b8f63f2",
   "metadata": {},
   "outputs": [],
   "source": [
    "PATH = \"ecosystem/testing.csv\"\n",
    "df = pd.read_csv(PATH, delimiter=\";\")"
   ]
  },
  {
   "cell_type": "code",
   "execution_count": 14,
   "id": "6d0fcf61",
   "metadata": {},
   "outputs": [
    {
     "data": {
      "text/html": [
       "<div>\n",
       "<style scoped>\n",
       "    .dataframe tbody tr th:only-of-type {\n",
       "        vertical-align: middle;\n",
       "    }\n",
       "\n",
       "    .dataframe tbody tr th {\n",
       "        vertical-align: top;\n",
       "    }\n",
       "\n",
       "    .dataframe thead th {\n",
       "        text-align: right;\n",
       "    }\n",
       "</style>\n",
       "<table border=\"1\" class=\"dataframe\">\n",
       "  <thead>\n",
       "    <tr style=\"text-align: right;\">\n",
       "      <th></th>\n",
       "      <th>Spruce (count)</th>\n",
       "      <th>Spruce volume (m^3)</th>\n",
       "    </tr>\n",
       "  </thead>\n",
       "  <tbody>\n",
       "    <tr>\n",
       "      <th>0</th>\n",
       "      <td>759</td>\n",
       "      <td>0.0</td>\n",
       "    </tr>\n",
       "    <tr>\n",
       "      <th>1</th>\n",
       "      <td>759</td>\n",
       "      <td>0.0</td>\n",
       "    </tr>\n",
       "    <tr>\n",
       "      <th>2</th>\n",
       "      <td>759</td>\n",
       "      <td>0.0</td>\n",
       "    </tr>\n",
       "    <tr>\n",
       "      <th>3</th>\n",
       "      <td>759</td>\n",
       "      <td>0.0</td>\n",
       "    </tr>\n",
       "    <tr>\n",
       "      <th>4</th>\n",
       "      <td>759</td>\n",
       "      <td>0.0</td>\n",
       "    </tr>\n",
       "    <tr>\n",
       "      <th>5</th>\n",
       "      <td>759</td>\n",
       "      <td>0.0</td>\n",
       "    </tr>\n",
       "    <tr>\n",
       "      <th>6</th>\n",
       "      <td>759</td>\n",
       "      <td>0.0</td>\n",
       "    </tr>\n",
       "    <tr>\n",
       "      <th>7</th>\n",
       "      <td>759</td>\n",
       "      <td>0.0</td>\n",
       "    </tr>\n",
       "    <tr>\n",
       "      <th>8</th>\n",
       "      <td>759</td>\n",
       "      <td>0.0</td>\n",
       "    </tr>\n",
       "    <tr>\n",
       "      <th>9</th>\n",
       "      <td>759</td>\n",
       "      <td>0.0</td>\n",
       "    </tr>\n",
       "  </tbody>\n",
       "</table>\n",
       "</div>"
      ],
      "text/plain": [
       "   Spruce (count)  Spruce volume (m^3)\n",
       "0             759                  0.0\n",
       "1             759                  0.0\n",
       "2             759                  0.0\n",
       "3             759                  0.0\n",
       "4             759                  0.0\n",
       "5             759                  0.0\n",
       "6             759                  0.0\n",
       "7             759                  0.0\n",
       "8             759                  0.0\n",
       "9             759                  0.0"
      ]
     },
     "execution_count": 14,
     "metadata": {},
     "output_type": "execute_result"
    }
   ],
   "source": [
    "df\n",
    "\n",
    "# This is the data on which we are operating. THe dataset shows attributes\n",
    "# of our model, such as the number of trees by treetype each episode or the total volume by treetype.\n",
    "# The index maps directly to the episode number, starting with 0.\n"
   ]
  },
  {
   "cell_type": "code",
   "execution_count": 6,
   "id": "9b03d81f",
   "metadata": {},
   "outputs": [],
   "source": [
    "# seaborn is a data visualization library.\n",
    "import seaborn as sns"
   ]
  },
  {
   "cell_type": "code",
   "execution_count": 15,
   "id": "b597deae",
   "metadata": {},
   "outputs": [
    {
     "data": {
      "image/png": "[encoded data removed]",
      "text/plain": [
       "<Figure size 432x288 with 1 Axes>"
      ]
     },
     "metadata": {
      "needs_background": "light"
     },
     "output_type": "display_data"
    }
   ],
   "source": [
    "colors = sns.color_palette(\"rocket\", as_cmap=True)\n",
    "\n",
    "key = \"Spruce (count)\"\n",
    "\n",
    "plt.plot(df.index, df[key])\n",
    "plt.xlabel(\"episode number\")\n",
    "plt.ylabel(key)\n",
    "plt.show()\n",
    "\n",
    "\n",
    "# number of spruce trees over time with delta time = 1 year (or one episode)\n"
   ]
  },
  {
   "cell_type": "code",
   "execution_count": null,
   "id": "5c6a33b8",
   "metadata": {},
   "outputs": [],
   "source": []
  }
 ],
 "metadata": {
  "kernelspec": {
   "display_name": "Python 3",
   "language": "python",
   "name": "python3"
  },
  "language_info": {
   "codemirror_mode": {
    "name": "ipython",
    "version": 3
   },
   "file_extension": ".py",
   "mimetype": "text/x-python",
   "name": "python",
   "nbconvert_exporter": "python",
   "pygments_lexer": "ipython3",
   "version": "3.8.8"
  }
 },
 "nbformat": 4,
 "nbformat_minor": 5
}
